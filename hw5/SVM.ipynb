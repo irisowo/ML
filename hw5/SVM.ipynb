{
  "nbformat": 4,
  "nbformat_minor": 0,
  "metadata": {
    "colab": {
      "name": "SVM.ipynb",
      "provenance": [],
      "collapsed_sections": []
    },
    "kernelspec": {
      "name": "python3",
      "display_name": "Python 3"
    },
    "language_info": {
      "name": "python"
    }
  },
  "cells": [
    {
      "cell_type": "code",
      "source": [
        "from google.colab import drive\n",
        "drive.mount('/content/drive')"
      ],
      "metadata": {
        "colab": {
          "base_uri": "https://localhost:8080/"
        },
        "id": "3rFNCyBOH5Mk",
        "outputId": "9335f8b4-77d9-40c3-af70-73f5da306153"
      },
      "execution_count": 1,
      "outputs": [
        {
          "output_type": "stream",
          "name": "stdout",
          "text": [
            "Mounted at /content/drive\n"
          ]
        }
      ]
    },
    {
      "cell_type": "code",
      "source": [
        "%cd /content/drive/MyDrive/四下/ML/HW/hw5"
      ],
      "metadata": {
        "colab": {
          "base_uri": "https://localhost:8080/"
        },
        "id": "cvlZZR3bI6Qj",
        "outputId": "2cd4378a-dc32-401f-8510-7ef5d4f173ed"
      },
      "execution_count": 2,
      "outputs": [
        {
          "output_type": "stream",
          "name": "stdout",
          "text": [
            "/content/drive/MyDrive/四下/ML/HW/hw5\n"
          ]
        }
      ]
    },
    {
      "cell_type": "code",
      "source": [
        "! pip install libsvm"
      ],
      "metadata": {
        "colab": {
          "base_uri": "https://localhost:8080/"
        },
        "id": "ySN1XphJC__i",
        "outputId": "f413d6b8-636f-43a0-ba42-efaf5f1520c3"
      },
      "execution_count": 3,
      "outputs": [
        {
          "output_type": "stream",
          "name": "stdout",
          "text": [
            "Collecting libsvm\n",
            "  Downloading libsvm-3.23.0.4.tar.gz (170 kB)\n",
            "\u001b[K     |████████████████████████████████| 170 kB 4.0 MB/s \n",
            "\u001b[?25hBuilding wheels for collected packages: libsvm\n",
            "  Building wheel for libsvm (setup.py) ... \u001b[?25l\u001b[?25hdone\n",
            "  Created wheel for libsvm: filename=libsvm-3.23.0.4-cp37-cp37m-linux_x86_64.whl size=233368 sha256=b889e1682e24851a055b451e9d58151b66ecd290ce852fe0de5cf7ccfb435a98\n",
            "  Stored in directory: /root/.cache/pip/wheels/cd/e8/1e/bf95cf256e4d3ffc94289ab508c49d48e34c98220af63e3513\n",
            "Successfully built libsvm\n",
            "Installing collected packages: libsvm\n",
            "Successfully installed libsvm-3.23.0.4\n"
          ]
        }
      ]
    },
    {
      "cell_type": "code",
      "source": [
        "import sys\n",
        "import time\n",
        "import numpy as np\n",
        "from libsvm.svmutil import *\n",
        "from scipy.spatial.distance import cdist"
      ],
      "metadata": {
        "id": "OizoXzmoJgAl"
      },
      "execution_count": 4,
      "outputs": []
    },
    {
      "cell_type": "markdown",
      "source": [
        "## Read data"
      ],
      "metadata": {
        "id": "DVa7eOtmzw-S"
      }
    },
    {
      "cell_type": "code",
      "source": [
        "def read_data(dir, pathes):    \n",
        "    images = np.loadtxt(dir + pathes[0], dtype=float, delimiter=',')\n",
        "    labels = np.loadtxt(dir + pathes[1], dtype=int, delimiter=',')\n",
        "    return images, labels\n",
        "\n",
        "dir = \"./data/\"\n",
        "train_pathes = ['X_train.csv', 'Y_train.csv']\n",
        "test_pathes = ['X_train.csv', 'Y_train.csv'] \n",
        "\n",
        "X_train, Y_train = read_data(dir, train_pathes)\n",
        "X_test, Y_test = read_data(dir, test_pathes)"
      ],
      "metadata": {
        "id": "P75UwKPWJk0L"
      },
      "execution_count": 11,
      "outputs": []
    },
    {
      "cell_type": "markdown",
      "source": [
        "## Task1"
      ],
      "metadata": {
        "id": "Wqtai1Sxr3pm"
      }
    },
    {
      "cell_type": "code",
      "source": [
        "kernel = {'linear': 0, 'polynomial': 1, 'RBF': 2}"
      ],
      "metadata": {
        "id": "K8nv3lGmDuqz"
      },
      "execution_count": 6,
      "outputs": []
    },
    {
      "cell_type": "code",
      "source": [
        "def svm(k):\n",
        "    print(f'kernel_type : {k}')\n",
        "    \n",
        "    start = time.time()\n",
        "\n",
        "    param = svm_parameter(f'-t {kernel[k]}')\n",
        "    prob  = svm_problem(Y_train, X_train)\n",
        "    model = svm_train(prob, param)\n",
        "    _, p_acc, _ = svm_predict(Y_test, X_test, model)\n",
        "\n",
        "    end = time.time()\n",
        "    print(\"Time: %0.2f seconds.\" % (end - start))\n",
        "    print()\n",
        "\n",
        "if __name__ == '__main__':\n",
        "    # Task 1\n",
        "    svm('linear')\n",
        "    svm('polynomial')\n",
        "    svm('RBF')"
      ],
      "metadata": {
        "id": "aEOeNDQxKYxY",
        "colab": {
          "base_uri": "https://localhost:8080/"
        },
        "outputId": "226ab35b-2b19-4a6b-c046-72cdfb5435af"
      },
      "execution_count": 9,
      "outputs": [
        {
          "output_type": "stream",
          "name": "stdout",
          "text": [
            "kernel_type : linear\n",
            "Accuracy = 100% (5000/5000) (classification)\n",
            "Accuracy: (100.0, 0.0, 1.0)\n",
            "Time: 7.21 seconds.\n",
            "\n",
            "kernel_type : polynomial\n",
            "Accuracy = 34.34% (1717/5000) (classification)\n",
            "Accuracy: (34.339999999999996, 2.6558, 0.1500523847736396)\n",
            "Time: 61.84 seconds.\n",
            "\n",
            "kernel_type : RBF\n",
            "Accuracy = 96.88% (4844/5000) (classification)\n",
            "Accuracy: (96.88, 0.1164, 0.9430581837530781)\n",
            "Time: 14.94 seconds.\n",
            "\n"
          ]
        }
      ]
    },
    {
      "cell_type": "markdown",
      "source": [
        "## Task2"
      ],
      "metadata": {
        "id": "qf4APAolr68w"
      }
    },
    {
      "cell_type": "code",
      "source": [
        "def grid_search_on_c(arg, max_acc):\n",
        "    best_c = 1e-1\n",
        "    \n",
        "    for c in [1e-2, 1e-1, 1e0, 1e1, 1e2]:\n",
        "        param = svm_parameter(arg.format(c))\n",
        "        prob  = svm_problem(Y_train, X_train)\n",
        "        p_acc = svm_train(prob, param)\n",
        "        if p_acc > max_acc:\n",
        "            max_acc = p_acc\n",
        "            best_c = c\n",
        "    return max_acc, best_c"
      ],
      "metadata": {
        "id": "TrQyiE94Scfk"
      },
      "execution_count": 7,
      "outputs": []
    },
    {
      "cell_type": "code",
      "execution_count": 8,
      "metadata": {
        "id": "0Hs6L9szHzEM",
        "colab": {
          "base_uri": "https://localhost:8080/"
        },
        "outputId": "3c95f63c-ca7a-4eb3-c457-15b13b74e46b"
      },
      "outputs": [
        {
          "output_type": "stream",
          "name": "stdout",
          "text": [
            "\n",
            "----------------------------------------------\n",
            "\n",
            "kernel_type : linear\n",
            "Cross Validation Accuracy = 97.04%\n",
            "Cross Validation Accuracy = 97.12%\n",
            "Cross Validation Accuracy = 96.3%\n",
            "Cross Validation Accuracy = 96.3%\n",
            "Cross Validation Accuracy = 95.88%\n",
            "Best acc : 97.11999999999999\n",
            "Best Params : {'C': 0.1}\n",
            "Time: 57.34 seconds.\n",
            "\n",
            "\n",
            "----------------------------------------------\n",
            "\n",
            "kernel_type : polynomial\n",
            "Cross Validation Accuracy = 96.98%\n",
            "Cross Validation Accuracy = 96.98%\n",
            "Cross Validation Accuracy = 96.52%\n",
            "Cross Validation Accuracy = 96.18%\n",
            "Cross Validation Accuracy = 96.38%\n",
            "Cross Validation Accuracy = 96.94%\n",
            "Cross Validation Accuracy = 96.48%\n",
            "Cross Validation Accuracy = 96.24%\n",
            "Cross Validation Accuracy = 96.66%\n",
            "Cross Validation Accuracy = 96.32%\n",
            "Cross Validation Accuracy = 96.8%\n",
            "Cross Validation Accuracy = 96.2%\n",
            "Cross Validation Accuracy = 95.94%\n",
            "Cross Validation Accuracy = 96.22%\n",
            "Cross Validation Accuracy = 96.1%\n",
            "Cross Validation Accuracy = 96.96%\n",
            "Cross Validation Accuracy = 96.04%\n",
            "Cross Validation Accuracy = 96.2%\n",
            "Cross Validation Accuracy = 96.16%\n",
            "Cross Validation Accuracy = 96.28%\n",
            "Cross Validation Accuracy = 98.14%\n",
            "Cross Validation Accuracy = 98.14%\n",
            "Cross Validation Accuracy = 97.96%\n",
            "Cross Validation Accuracy = 98%\n",
            "Cross Validation Accuracy = 98.24%\n",
            "Cross Validation Accuracy = 98.02%\n",
            "Cross Validation Accuracy = 98.12%\n",
            "Cross Validation Accuracy = 97.94%\n",
            "Cross Validation Accuracy = 98%\n",
            "Cross Validation Accuracy = 97.98%\n",
            "Cross Validation Accuracy = 98.04%\n",
            "Cross Validation Accuracy = 98.04%\n",
            "Cross Validation Accuracy = 98.12%\n",
            "Cross Validation Accuracy = 98.08%\n",
            "Cross Validation Accuracy = 97.98%\n",
            "Cross Validation Accuracy = 98.04%\n",
            "Cross Validation Accuracy = 98.1%\n",
            "Cross Validation Accuracy = 97.96%\n",
            "Cross Validation Accuracy = 98.16%\n",
            "Cross Validation Accuracy = 98.26%\n",
            "Best acc : 98.26\n",
            "Best Params : {'degree': 2, 'gamma': 10.0, 'coef0': 10.0, 'C': 100.0}\n",
            "Time: 475.81 seconds.\n",
            "\n",
            "\n",
            "----------------------------------------------\n",
            "\n",
            "kernel_type : RBF\n",
            "Cross Validation Accuracy = 81.08%\n",
            "Cross Validation Accuracy = 92.44%\n",
            "Cross Validation Accuracy = 96.12%\n",
            "Cross Validation Accuracy = 97.18%\n",
            "Cross Validation Accuracy = 97.28%\n",
            "Cross Validation Accuracy = 92.34%\n",
            "Cross Validation Accuracy = 96.46%\n",
            "Cross Validation Accuracy = 97.7%\n",
            "Cross Validation Accuracy = 98.22%\n",
            "Cross Validation Accuracy = 98.44%\n",
            "Cross Validation Accuracy = 48.82%\n",
            "Cross Validation Accuracy = 53.22%\n",
            "Cross Validation Accuracy = 91.98%\n",
            "Cross Validation Accuracy = 92.38%\n",
            "Cross Validation Accuracy = 92.46%\n",
            "Best acc : 98.44000000000001\n",
            "Best Params : {'gamma': 0.01, 'C': 100.0}\n",
            "Time: 1042.24 seconds.\n",
            "\n",
            "\n",
            "----------------------------------------------\n",
            "\n"
          ]
        }
      ],
      "source": [
        "def grid_search(k):\n",
        "\n",
        "    fold = 5\n",
        "    print(f'kernel_type : {k}')\n",
        "\n",
        "    time_start = time.time()\n",
        "    max_acc = 0.0\n",
        "    \n",
        "    if k == 'linear':\n",
        "        arg = f'-t {kernel[k]} -c ' + '{} ' + f'-v {fold} -q'\n",
        "        max_acc, best_c = grid_search_on_c(arg, max_acc)\n",
        "        best_params = {'C': best_c}\n",
        "    \n",
        "    elif k == 'polynomial':\n",
        "        for degree in range(1, 3):\n",
        "            for gamma in [1e0, 1e1]:\n",
        "                for coef0 in [1e0, 1e1]:\n",
        "                    arg = f'-t {kernel[k]} -c ' + '{} ' + f'-g {gamma} -d {degree} -r {coef0} -v {fold} -q'\n",
        "                    local_max_acc, best_c = grid_search_on_c(arg, max_acc)\n",
        "                    if local_max_acc > max_acc:\n",
        "                        max_acc = local_max_acc\n",
        "                        best_params = {'degree':degree,'gamma':gamma,'coef0':coef0,'C':best_c}\n",
        "    \n",
        "    elif k == 'RBF':\n",
        "        for gamma in [1e-3, 1e-2, 1e-1]:\n",
        "            arg = f'-t {kernel[k]} -c ' + '{} ' + f'-g {gamma} -v {fold} -q'\n",
        "            local_max_acc, best_c = grid_search_on_c(arg, max_acc)\n",
        "            if local_max_acc > max_acc:\n",
        "                max_acc = local_max_acc\n",
        "                best_params = {'gamma':gamma,'C':best_c}\n",
        "    \n",
        "    time_end = time.time()\n",
        "    \n",
        "    print(f'Best acc : {max_acc}')\n",
        "    print(f'Best Params : {best_params}')\n",
        "    print(\"Time: %0.2f seconds.\" % (time_end-time_start))\n",
        "    print()\n",
        "\n",
        "\n",
        "if __name__ == '__main__':\n",
        "    # Task 2\n",
        "    print(\"\\n----------------------------------------------\\n\")\n",
        "    grid_search('linear')\n",
        "    print(\"\\n----------------------------------------------\\n\")\n",
        "    grid_search('polynomial')\n",
        "    print(\"\\n----------------------------------------------\\n\")\n",
        "    grid_search('RBF')\n",
        "    print(\"\\n----------------------------------------------\\n\")"
      ]
    },
    {
      "cell_type": "markdown",
      "source": [
        "## Task 3"
      ],
      "metadata": {
        "id": "h85bZ8tSr9eu"
      }
    },
    {
      "cell_type": "code",
      "source": [
        "def linear_kernel(xi, xj):\n",
        "    return xi @ xj.T\n",
        "\n",
        "def RBF_kernel(u, v, gamma):\n",
        "    return np.exp(-gamma * cdist(u, v, 'sqeuclidean'))\n",
        "\n",
        "def svm_combined_kernel():\n",
        "    fold = 5\n",
        "    max_acc = 0.0\n",
        "    time_start = time.time()\n",
        "\n",
        "    for gamma in [1e-3, 1e-2, 1e-1, 1e0, 1e1]:\n",
        "        # Build a new kernal by combining linear and rbf kernal\n",
        "        X_train_new = linear_kernel(X_train, X_train) + RBF_kernel(X_train, X_train, gamma)\n",
        "        X_test_new = linear_kernel(X_test, X_test) + RBF_kernel(X_test, X_test, gamma)\n",
        "        X_train_new = np.hstack((np.arange(1, len(X_train)+1).reshape(-1, 1), X_train_new))\n",
        "        X_test_new = np.hstack((np.arange(1, len(X_test)+1).reshape(-1, 1), X_test_new))\n",
        "        for c in [1e-2, 1e-1, 1e0, 1e1, 1e2]:\n",
        "          # train the svm\n",
        "            arg = f'-t 4 -c {c} -g {gamma} -v {fold} -q'\n",
        "            param = svm_parameter(arg)\n",
        "            prob  = svm_problem(Y_train, X_train_new, isKernel=True)\n",
        "            p_acc = svm_train(prob, param)\n",
        "            if p_acc > max_acc:\n",
        "                max_acc = p_acc\n",
        "                best_params = {'gamma':gamma,'C':c}\n",
        "    \n",
        "    time_end = time.time()\n",
        "    print(f'Best acc : {max_acc}')\n",
        "    print(f'Best Params : {best_params}')\n",
        "    print(\"Time: %0.2f seconds.\" % (time_end-time_start))\n",
        "\n",
        "if __name__ == '__main__':\n",
        "    svm_combined_kernel()"
      ],
      "metadata": {
        "id": "Au0_Dbe42OXy",
        "colab": {
          "base_uri": "https://localhost:8080/"
        },
        "outputId": "1481211d-4a5a-416a-d0ed-d118686958a1"
      },
      "execution_count": 22,
      "outputs": [
        {
          "output_type": "stream",
          "name": "stdout",
          "text": [
            "Cross Validation Accuracy = 96.9%\n",
            "Cross Validation Accuracy = 96.9%\n",
            "Cross Validation Accuracy = 96.06%\n",
            "Cross Validation Accuracy = 96.44%\n",
            "Cross Validation Accuracy = 96.32%\n",
            "Cross Validation Accuracy = 96.98%\n",
            "Cross Validation Accuracy = 97.14%\n",
            "Cross Validation Accuracy = 96.32%\n",
            "Cross Validation Accuracy = 96.16%\n",
            "Cross Validation Accuracy = 96.2%\n",
            "Cross Validation Accuracy = 97.04%\n",
            "Cross Validation Accuracy = 97%\n",
            "Cross Validation Accuracy = 96.54%\n",
            "Cross Validation Accuracy = 96.36%\n",
            "Cross Validation Accuracy = 96.68%\n",
            "Cross Validation Accuracy = 96.88%\n",
            "Cross Validation Accuracy = 96.92%\n",
            "Cross Validation Accuracy = 96.34%\n",
            "Cross Validation Accuracy = 96.3%\n",
            "Cross Validation Accuracy = 96.48%\n",
            "Cross Validation Accuracy = 97.1%\n",
            "Cross Validation Accuracy = 97%\n",
            "Cross Validation Accuracy = 96.52%\n",
            "Cross Validation Accuracy = 96.5%\n",
            "Cross Validation Accuracy = 96.58%\n",
            "Best acc : 97.14\n",
            "Best Params : {'gamma': 0.01, 'C': 0.1}\n",
            "Time: 652.47 seconds.\n"
          ]
        }
      ]
    }
  ]
}